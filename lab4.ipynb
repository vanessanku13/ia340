{
 "cells": [
  {
   "cell_type": "code",
   "execution_count": 2,
   "id": "a4bf2c1e",
   "metadata": {},
   "outputs": [
    {
     "name": "stderr",
     "output_type": "stream",
     "text": [
      "/home/ec2-user/anaconda3/envs/python3/lib/python3.6/site-packages/psycopg2/__init__.py:144: UserWarning: The psycopg2 wheel package will be renamed from release 2.8; in order to keep installing from binary please use \"pip install psycopg2-binary\" instead. For details see: <http://initd.org/psycopg/docs/install.html#binary-install-from-pypi>.\n",
      "  \"\"\")\n"
     ]
    }
   ],
   "source": [
    "import pandas\n",
    "import configparser\n",
    "import psycopg2"
   ]
  },
  {
   "cell_type": "code",
   "execution_count": 3,
   "id": "2c8a1f46",
   "metadata": {},
   "outputs": [],
   "source": [
    "config = configparser.ConfigParser()\n",
    "config.read('config.ini')\n",
    "\n",
    "host=config['myaws']['host']\n",
    "db=config['myaws']['db']\n",
    "user=config['myaws']['user']\n",
    "pwd = config['myaws']['pwd']\n",
    "\n",
    "conn = psycopg2.connect(  host=host,\n",
    "                       user=user,\n",
    "                       password = pwd,\n",
    "                       dbname=db)"
   ]
  },
  {
   "cell_type": "code",
   "execution_count": 4,
   "id": "d86ac3d3",
   "metadata": {},
   "outputs": [],
   "source": [
    "cur=conn.cursor()"
   ]
  },
  {
   "cell_type": "markdown",
   "id": "a7a7bee1",
   "metadata": {},
   "source": [
    "# Q1:Use pandas to display all the records in the student table."
   ]
  },
  {
   "cell_type": "code",
   "execution_count": 5,
   "id": "177e1f85",
   "metadata": {},
   "outputs": [],
   "source": [
    "sql_statement = \"\"\" select * from gp6.student\"\"\""
   ]
  },
  {
   "cell_type": "code",
   "execution_count": 6,
   "id": "aeef592a",
   "metadata": {},
   "outputs": [
    {
     "data": {
      "text/html": [
       "<div>\n",
       "<style scoped>\n",
       "    .dataframe tbody tr th:only-of-type {\n",
       "        vertical-align: middle;\n",
       "    }\n",
       "\n",
       "    .dataframe tbody tr th {\n",
       "        vertical-align: top;\n",
       "    }\n",
       "\n",
       "    .dataframe thead th {\n",
       "        text-align: right;\n",
       "    }\n",
       "</style>\n",
       "<table border=\"1\" class=\"dataframe\">\n",
       "  <thead>\n",
       "    <tr style=\"text-align: right;\">\n",
       "      <th></th>\n",
       "      <th>s_email</th>\n",
       "      <th>s_name</th>\n",
       "      <th>major</th>\n",
       "    </tr>\n",
       "  </thead>\n",
       "  <tbody>\n",
       "    <tr>\n",
       "      <th>0</th>\n",
       "      <td>s1@dukes.jmu.edu</td>\n",
       "      <td>s1</td>\n",
       "      <td>IA</td>\n",
       "    </tr>\n",
       "    <tr>\n",
       "      <th>1</th>\n",
       "      <td>s2@dukes.jmu.edu</td>\n",
       "      <td>s2</td>\n",
       "      <td>CS</td>\n",
       "    </tr>\n",
       "    <tr>\n",
       "      <th>2</th>\n",
       "      <td>s3@dukes.jmu.edu</td>\n",
       "      <td>s3</td>\n",
       "      <td>IA</td>\n",
       "    </tr>\n",
       "    <tr>\n",
       "      <th>3</th>\n",
       "      <td>s4@dukes.jmu.edu</td>\n",
       "      <td>s4</td>\n",
       "      <td>IA</td>\n",
       "    </tr>\n",
       "    <tr>\n",
       "      <th>4</th>\n",
       "      <td>s5@dukes.jmu.edu</td>\n",
       "      <td>s5</td>\n",
       "      <td>IA</td>\n",
       "    </tr>\n",
       "    <tr>\n",
       "      <th>5</th>\n",
       "      <td>s6@dukes.jmu.edu</td>\n",
       "      <td>s6</td>\n",
       "      <td>IA</td>\n",
       "    </tr>\n",
       "    <tr>\n",
       "      <th>6</th>\n",
       "      <td>s7@dukes.jmu.edu</td>\n",
       "      <td>s7</td>\n",
       "      <td>CS</td>\n",
       "    </tr>\n",
       "    <tr>\n",
       "      <th>7</th>\n",
       "      <td>s8@dukes.jmu.edu</td>\n",
       "      <td>s8</td>\n",
       "      <td>CS</td>\n",
       "    </tr>\n",
       "    <tr>\n",
       "      <th>8</th>\n",
       "      <td>s9@dukes.jmu.edu</td>\n",
       "      <td>s9</td>\n",
       "      <td>CS</td>\n",
       "    </tr>\n",
       "    <tr>\n",
       "      <th>9</th>\n",
       "      <td>s10@dukes.jmu.edu</td>\n",
       "      <td>s10</td>\n",
       "      <td>IA</td>\n",
       "    </tr>\n",
       "  </tbody>\n",
       "</table>\n",
       "</div>"
      ],
      "text/plain": [
       "             s_email s_name major\n",
       "0   s1@dukes.jmu.edu     s1    IA\n",
       "1   s2@dukes.jmu.edu     s2    CS\n",
       "2   s3@dukes.jmu.edu     s3    IA\n",
       "3   s4@dukes.jmu.edu     s4    IA\n",
       "4   s5@dukes.jmu.edu     s5    IA\n",
       "5   s6@dukes.jmu.edu     s6    IA\n",
       "6   s7@dukes.jmu.edu     s7    CS\n",
       "7   s8@dukes.jmu.edu     s8    CS\n",
       "8   s9@dukes.jmu.edu     s9    CS\n",
       "9  s10@dukes.jmu.edu    s10    IA"
      ]
     },
     "execution_count": 6,
     "metadata": {},
     "output_type": "execute_result"
    }
   ],
   "source": [
    "df=pandas.read_sql_query(sql_statement,conn)\n",
    "df[:10]"
   ]
  },
  {
   "cell_type": "markdown",
   "id": "57edd530",
   "metadata": {},
   "source": [
    "# Q2: Use pandas to display the teachers' names and the corresponding course names jointly. "
   ]
  },
  {
   "cell_type": "code",
   "execution_count": 7,
   "id": "3fc7ceb4",
   "metadata": {},
   "outputs": [],
   "source": [
    "sql_statement2 = \"\"\" \n",
    "                select gp6.professor.p_name,\n",
    "                gp6.course.c_name\n",
    "                from gp6.professor\n",
    "                inner join gp6.course\n",
    "                on gp6.professor.p_email = gp6.course.p_email\n",
    "                \"\"\""
   ]
  },
  {
   "cell_type": "code",
   "execution_count": 8,
   "id": "77a7cb48",
   "metadata": {},
   "outputs": [
    {
     "data": {
      "text/html": [
       "<div>\n",
       "<style scoped>\n",
       "    .dataframe tbody tr th:only-of-type {\n",
       "        vertical-align: middle;\n",
       "    }\n",
       "\n",
       "    .dataframe tbody tr th {\n",
       "        vertical-align: top;\n",
       "    }\n",
       "\n",
       "    .dataframe thead th {\n",
       "        text-align: right;\n",
       "    }\n",
       "</style>\n",
       "<table border=\"1\" class=\"dataframe\">\n",
       "  <thead>\n",
       "    <tr style=\"text-align: right;\">\n",
       "      <th></th>\n",
       "      <th>p_name</th>\n",
       "      <th>c_name</th>\n",
       "    </tr>\n",
       "  </thead>\n",
       "  <tbody>\n",
       "    <tr>\n",
       "      <th>0</th>\n",
       "      <td>Noel Hendrickson</td>\n",
       "      <td>INTRO TO IA</td>\n",
       "    </tr>\n",
       "    <tr>\n",
       "      <th>1</th>\n",
       "      <td>Orlandrew Danzell</td>\n",
       "      <td>COUNTERFACTUAL REASONING</td>\n",
       "    </tr>\n",
       "    <tr>\n",
       "      <th>2</th>\n",
       "      <td>Xuebin Wei</td>\n",
       "      <td>DATA MINING</td>\n",
       "    </tr>\n",
       "    <tr>\n",
       "      <th>3</th>\n",
       "      <td>John Robinson</td>\n",
       "      <td>ETHICS AND VIRTUE</td>\n",
       "    </tr>\n",
       "    <tr>\n",
       "      <th>4</th>\n",
       "      <td>new_p1</td>\n",
       "      <td>new_c_name</td>\n",
       "    </tr>\n",
       "    <tr>\n",
       "      <th>5</th>\n",
       "      <td>new_p1</td>\n",
       "      <td>Strategic Analysis</td>\n",
       "    </tr>\n",
       "    <tr>\n",
       "      <th>6</th>\n",
       "      <td>new_p1</td>\n",
       "      <td>IA SEMINAR</td>\n",
       "    </tr>\n",
       "    <tr>\n",
       "      <th>7</th>\n",
       "      <td>new_p1</td>\n",
       "      <td>CAPSTONE PREP</td>\n",
       "    </tr>\n",
       "  </tbody>\n",
       "</table>\n",
       "</div>"
      ],
      "text/plain": [
       "              p_name                    c_name\n",
       "0   Noel Hendrickson               INTRO TO IA\n",
       "1  Orlandrew Danzell  COUNTERFACTUAL REASONING\n",
       "2         Xuebin Wei               DATA MINING\n",
       "3      John Robinson         ETHICS AND VIRTUE\n",
       "4             new_p1                new_c_name\n",
       "5             new_p1        Strategic Analysis\n",
       "6             new_p1                IA SEMINAR\n",
       "7             new_p1             CAPSTONE PREP"
      ]
     },
     "execution_count": 8,
     "metadata": {},
     "output_type": "execute_result"
    }
   ],
   "source": [
    "df=pandas.read_sql_query(sql_statement2,conn)\n",
    "df[:10]"
   ]
  },
  {
   "cell_type": "markdown",
   "id": "b1fd72e8",
   "metadata": {},
   "source": [
    "# Q3:  Use pandas to create a bar chart showing the number of enrolled students by each course number"
   ]
  },
  {
   "cell_type": "code",
   "execution_count": 15,
   "id": "529320c9",
   "metadata": {},
   "outputs": [],
   "source": [
    "sql_statement3 = \"\"\"\n",
    "                 select c_number,\n",
    "                 count (s_email) as enroll\n",
    "                 from gp6.enroll_list\n",
    "                 group by c_number\n",
    "                 order by enroll DESC\n",
    "                 \"\"\""
   ]
  },
  {
   "cell_type": "code",
   "execution_count": 26,
   "id": "33a90b32",
   "metadata": {},
   "outputs": [],
   "source": [
    "df_enroll = pandas.read_sql_query(sql_statement3, conn)"
   ]
  },
  {
   "cell_type": "code",
   "execution_count": null,
   "id": "44d7f2b9",
   "metadata": {},
   "outputs": [],
   "source": []
  },
  {
   "cell_type": "code",
   "execution_count": 17,
   "id": "63247243",
   "metadata": {},
   "outputs": [
    {
     "data": {
      "text/plain": [
       "<AxesSubplot:xlabel='c_number'>"
      ]
     },
     "execution_count": 17,
     "metadata": {},
     "output_type": "execute_result"
    },
    {
     "data": {
      "image/png": "[encoded data removed]",
      "text/plain": [
       "<Figure size 432x288 with 1 Axes>"
      ]
     },
     "metadata": {
      "needs_background": "light"
     },
     "output_type": "display_data"
    }
   ],
   "source": [
    "df_enroll.plot.bar (y='enroll', x='c_number')"
   ]
  },
  {
   "cell_type": "markdown",
   "id": "613bbf4b",
   "metadata": {},
   "source": [
    "# Q4: Use pandas to create a bar chart showing the number of courses taught by each professor name\n"
   ]
  },
  {
   "cell_type": "code",
   "execution_count": 18,
   "id": "8afa8057",
   "metadata": {},
   "outputs": [],
   "source": [
    "sql_statement4 = \"\"\"\n",
    "                 select p_name,\n",
    "                 count (c_name) as total_courses\n",
    "                 from gp6.course\n",
    "                 group by p_name\n",
    "                 order by total_courses DESC\n",
    "                 \"\"\""
   ]
  },
  {
   "cell_type": "code",
   "execution_count": 19,
   "id": "3dcef45a",
   "metadata": {},
   "outputs": [
    {
     "data": {
      "text/plain": [
       "<AxesSubplot:xlabel='p_name'>"
      ]
     },
     "execution_count": 19,
     "metadata": {},
     "output_type": "execute_result"
    },
    {
     "data": {
      "image/png": "[encoded data removed]",
      "text/plain": [
       "<Figure size 432x288 with 1 Axes>"
      ]
     },
     "metadata": {
      "needs_background": "light"
     },
     "output_type": "display_data"
    }
   ],
   "source": [
    "df_total_courses = pandas.read_sql_query(sql_statement4, conn)\n",
    "df_total_courses.plot.bar (y='total_courses', x='p_name')"
   ]
  },
  {
   "cell_type": "markdown",
   "id": "e6a15ecf",
   "metadata": {},
   "source": [
    "# Q5: A new professor just joined JMU and will teach a new course. Add a new record of the new professor in the teacher table, and the corresponding new course record in the course table. You can make up the professor's info and the new course info. Display the modified professor table and the course table."
   ]
  },
  {
   "cell_type": "code",
   "execution_count": 20,
   "id": "a649562a",
   "metadata": {},
   "outputs": [
    {
     "name": "stdout",
     "output_type": "stream",
     "text": [
      "\n",
      "                 insert into gp6.professor (p_email, p_name, office)\n",
      "                 values ('new_p1', 'new_p1','new_o')\n",
      "                 \n"
     ]
    }
   ],
   "source": [
    "sql_statement5 = \"\"\"\n",
    "                 insert into gp6.professor (p_email, p_name, office)\n",
    "                 values ('new_p1', 'new_p1','new_o')\n",
    "                 \"\"\"\n",
    "print(sql_statement5)"
   ]
  },
  {
   "cell_type": "code",
   "execution_count": 21,
   "id": "4db31856",
   "metadata": {},
   "outputs": [
    {
     "ename": "IntegrityError",
     "evalue": "duplicate key value violates unique constraint \"professor_pkey\"\nDETAIL:  Key (p_email)=(new_p1) already exists.\n",
     "output_type": "error",
     "traceback": [
      "\u001b[0;31m---------------------------------------------------------------------------\u001b[0m",
      "\u001b[0;31mIntegrityError\u001b[0m                            Traceback (most recent call last)",
      "\u001b[0;32m<ipython-input-21-f7a7501974ce>\u001b[0m in \u001b[0;36m<module>\u001b[0;34m\u001b[0m\n\u001b[0;32m----> 1\u001b[0;31m \u001b[0mcur\u001b[0m\u001b[0;34m.\u001b[0m\u001b[0mexecute\u001b[0m\u001b[0;34m(\u001b[0m\u001b[0msql_statement5\u001b[0m\u001b[0;34m)\u001b[0m\u001b[0;34m\u001b[0m\u001b[0;34m\u001b[0m\u001b[0m\n\u001b[0m",
      "\u001b[0;31mIntegrityError\u001b[0m: duplicate key value violates unique constraint \"professor_pkey\"\nDETAIL:  Key (p_email)=(new_p1) already exists.\n"
     ]
    }
   ],
   "source": [
    "cur.execute(sql_statement5)"
   ]
  },
  {
   "cell_type": "code",
   "execution_count": 22,
   "id": "8de84d0b",
   "metadata": {},
   "outputs": [],
   "source": [
    "conn.rollback()"
   ]
  },
  {
   "cell_type": "code",
   "execution_count": 23,
   "id": "39a659a0",
   "metadata": {},
   "outputs": [],
   "source": [
    "conn.commit()"
   ]
  },
  {
   "cell_type": "code",
   "execution_count": 65,
   "id": "3a6ddf8e",
   "metadata": {},
   "outputs": [
    {
     "data": {
      "text/html": [
       "<div>\n",
       "<style scoped>\n",
       "    .dataframe tbody tr th:only-of-type {\n",
       "        vertical-align: middle;\n",
       "    }\n",
       "\n",
       "    .dataframe tbody tr th {\n",
       "        vertical-align: top;\n",
       "    }\n",
       "\n",
       "    .dataframe thead th {\n",
       "        text-align: right;\n",
       "    }\n",
       "</style>\n",
       "<table border=\"1\" class=\"dataframe\">\n",
       "  <thead>\n",
       "    <tr style=\"text-align: right;\">\n",
       "      <th></th>\n",
       "      <th>p_email</th>\n",
       "      <th>p_name</th>\n",
       "      <th>office</th>\n",
       "      <th>c_number</th>\n",
       "    </tr>\n",
       "  </thead>\n",
       "  <tbody>\n",
       "    <tr>\n",
       "      <th>0</th>\n",
       "      <td>new_p_e</td>\n",
       "      <td>new_p_n</td>\n",
       "      <td>new_p_o</td>\n",
       "      <td>None</td>\n",
       "    </tr>\n",
       "    <tr>\n",
       "      <th>1</th>\n",
       "      <td>danzelox@jmu.edu</td>\n",
       "      <td>Orlandrew Danzell</td>\n",
       "      <td>005</td>\n",
       "      <td>IA 314</td>\n",
       "    </tr>\n",
       "    <tr>\n",
       "      <th>2</th>\n",
       "      <td>hendrinx@jmu.edu</td>\n",
       "      <td>Noel Hendrickson</td>\n",
       "      <td>004</td>\n",
       "      <td>IA 150</td>\n",
       "    </tr>\n",
       "    <tr>\n",
       "      <th>3</th>\n",
       "      <td>robinsja@jmu.edu</td>\n",
       "      <td>John Robinson</td>\n",
       "      <td>006</td>\n",
       "      <td>IA 405</td>\n",
       "    </tr>\n",
       "    <tr>\n",
       "      <th>4</th>\n",
       "      <td>waltontr@jmu.edu</td>\n",
       "      <td>Timothy Walton</td>\n",
       "      <td>001</td>\n",
       "      <td>IA 440</td>\n",
       "    </tr>\n",
       "    <tr>\n",
       "      <th>5</th>\n",
       "      <td>weixx@jmu.edu</td>\n",
       "      <td>Xuebin Wei</td>\n",
       "      <td>003</td>\n",
       "      <td>IA 340</td>\n",
       "    </tr>\n",
       "    <tr>\n",
       "      <th>6</th>\n",
       "      <td>marrinsp@jmu.edu</td>\n",
       "      <td>Stephen Marrin</td>\n",
       "      <td>007</td>\n",
       "      <td>IA 420</td>\n",
       "    </tr>\n",
       "    <tr>\n",
       "      <th>7</th>\n",
       "      <td>new_p1</td>\n",
       "      <td>new_p1</td>\n",
       "      <td>new_o</td>\n",
       "      <td>None</td>\n",
       "    </tr>\n",
       "  </tbody>\n",
       "</table>\n",
       "</div>"
      ],
      "text/plain": [
       "            p_email             p_name      office c_number\n",
       "0           new_p_e            new_p_n  new_p_o        None\n",
       "1  danzelox@jmu.edu  Orlandrew Danzell  005          IA 314\n",
       "2  hendrinx@jmu.edu   Noel Hendrickson  004          IA 150\n",
       "3  robinsja@jmu.edu      John Robinson  006          IA 405\n",
       "4  waltontr@jmu.edu     Timothy Walton  001          IA 440\n",
       "5     weixx@jmu.edu         Xuebin Wei  003          IA 340\n",
       "6  marrinsp@jmu.edu     Stephen Marrin  007          IA 420\n",
       "7            new_p1             new_p1  new_o          None"
      ]
     },
     "execution_count": 65,
     "metadata": {},
     "output_type": "execute_result"
    }
   ],
   "source": [
    "df = pandas.read_sql_query(\"select * from  gp6.professor\", conn)\n",
    "df[:]"
   ]
  },
  {
   "cell_type": "code",
   "execution_count": 75,
   "id": "e11f7840",
   "metadata": {},
   "outputs": [
    {
     "name": "stdout",
     "output_type": "stream",
     "text": [
      "\n",
      "                 insert into gp6.course (c_number, c_name, room, p_email)\n",
      "                 values ('ia_new' , 'new_c_name' , 'online', 'new_p1')\n",
      "                 \n"
     ]
    }
   ],
   "source": [
    "sql_statement6 = \"\"\"\n",
    "                 insert into gp6.course (c_number, c_name, room, p_email)\n",
    "                 values ('ia_new' , 'new_c_name' , 'online', 'new_p1')\n",
    "                 \"\"\"\n",
    "print(sql_statement6)"
   ]
  },
  {
   "cell_type": "code",
   "execution_count": 76,
   "id": "59cdda2b",
   "metadata": {},
   "outputs": [],
   "source": [
    "cur.execute(sql_statement6)"
   ]
  },
  {
   "cell_type": "code",
   "execution_count": 68,
   "id": "27815b22",
   "metadata": {},
   "outputs": [],
   "source": [
    "conn.rollback()"
   ]
  },
  {
   "cell_type": "code",
   "execution_count": 77,
   "id": "f3384cdd",
   "metadata": {},
   "outputs": [],
   "source": [
    "conn.commit()"
   ]
  },
  {
   "cell_type": "code",
   "execution_count": 78,
   "id": "b212c4d1",
   "metadata": {},
   "outputs": [
    {
     "data": {
      "text/html": [
       "<div>\n",
       "<style scoped>\n",
       "    .dataframe tbody tr th:only-of-type {\n",
       "        vertical-align: middle;\n",
       "    }\n",
       "\n",
       "    .dataframe tbody tr th {\n",
       "        vertical-align: top;\n",
       "    }\n",
       "\n",
       "    .dataframe thead th {\n",
       "        text-align: right;\n",
       "    }\n",
       "</style>\n",
       "<table border=\"1\" class=\"dataframe\">\n",
       "  <thead>\n",
       "    <tr style=\"text-align: right;\">\n",
       "      <th></th>\n",
       "      <th>c_number</th>\n",
       "      <th>c_name</th>\n",
       "      <th>room</th>\n",
       "      <th>p_email</th>\n",
       "      <th>p_name</th>\n",
       "    </tr>\n",
       "  </thead>\n",
       "  <tbody>\n",
       "    <tr>\n",
       "      <th>0</th>\n",
       "      <td>IA 150</td>\n",
       "      <td>INTRO TO IA</td>\n",
       "      <td>101</td>\n",
       "      <td>hendrinx@jmu.edu</td>\n",
       "      <td>Noel Hendrickson</td>\n",
       "    </tr>\n",
       "    <tr>\n",
       "      <th>1</th>\n",
       "      <td>IA 314</td>\n",
       "      <td>COUNTERFACTUAL REASONING</td>\n",
       "      <td>103</td>\n",
       "      <td>danzelox@jmu.edu</td>\n",
       "      <td>Orlandrew Danzell</td>\n",
       "    </tr>\n",
       "    <tr>\n",
       "      <th>2</th>\n",
       "      <td>IA 340</td>\n",
       "      <td>DATA MINING</td>\n",
       "      <td>105</td>\n",
       "      <td>weixx@jmu.edu</td>\n",
       "      <td>Xeubin Wei</td>\n",
       "    </tr>\n",
       "    <tr>\n",
       "      <th>3</th>\n",
       "      <td>IA 405</td>\n",
       "      <td>ETHICS AND VIRTUE</td>\n",
       "      <td>100</td>\n",
       "      <td>robinsja@jmu.edu</td>\n",
       "      <td>John Robinson</td>\n",
       "    </tr>\n",
       "    <tr>\n",
       "      <th>4</th>\n",
       "      <td>IA 420</td>\n",
       "      <td>Strategic Analysis</td>\n",
       "      <td>110</td>\n",
       "      <td>marrinsp@jmu.edu</td>\n",
       "      <td>Stephen Marrin</td>\n",
       "    </tr>\n",
       "    <tr>\n",
       "      <th>5</th>\n",
       "      <td>IA 300</td>\n",
       "      <td>IA SEMINAR</td>\n",
       "      <td>102</td>\n",
       "      <td>marrinsp@jmu.edu</td>\n",
       "      <td>Kathleen Moore</td>\n",
       "    </tr>\n",
       "    <tr>\n",
       "      <th>6</th>\n",
       "      <td>IA 440</td>\n",
       "      <td>CAPSTONE PREP</td>\n",
       "      <td>104</td>\n",
       "      <td>marrinsp@jmu.edu</td>\n",
       "      <td>Kathleen Moore</td>\n",
       "    </tr>\n",
       "    <tr>\n",
       "      <th>7</th>\n",
       "      <td>ia_new</td>\n",
       "      <td>new_c_name</td>\n",
       "      <td>online</td>\n",
       "      <td>new_p1</td>\n",
       "      <td>None</td>\n",
       "    </tr>\n",
       "  </tbody>\n",
       "</table>\n",
       "</div>"
      ],
      "text/plain": [
       "  c_number                    c_name    room           p_email  \\\n",
       "0   IA 150               INTRO TO IA     101  hendrinx@jmu.edu   \n",
       "1   IA 314  COUNTERFACTUAL REASONING     103  danzelox@jmu.edu   \n",
       "2   IA 340               DATA MINING     105     weixx@jmu.edu   \n",
       "3   IA 405         ETHICS AND VIRTUE     100  robinsja@jmu.edu   \n",
       "4   IA 420        Strategic Analysis     110  marrinsp@jmu.edu   \n",
       "5   IA 300                IA SEMINAR     102  marrinsp@jmu.edu   \n",
       "6   IA 440             CAPSTONE PREP     104  marrinsp@jmu.edu   \n",
       "7   ia_new                new_c_name  online            new_p1   \n",
       "\n",
       "              p_name  \n",
       "0   Noel Hendrickson  \n",
       "1  Orlandrew Danzell  \n",
       "2         Xeubin Wei  \n",
       "3      John Robinson  \n",
       "4     Stephen Marrin  \n",
       "5     Kathleen Moore  \n",
       "6     Kathleen Moore  \n",
       "7               None  "
      ]
     },
     "execution_count": 78,
     "metadata": {},
     "output_type": "execute_result"
    }
   ],
   "source": [
    "df = pandas.read_sql_query(\"select * from  gp6.course\", conn)\n",
    "df[:]"
   ]
  },
  {
   "cell_type": "markdown",
   "id": "54ac927c",
   "metadata": {},
   "source": [
    "# Q6: An existing professor will retire soon, and the newly hired professor will teach his/her courses. Delete one of the existing professors in the teacher table and change the instructor of his/her classes in the course table to the newly hired professor. Display the modified professor table and the course table."
   ]
  },
  {
   "cell_type": "code",
   "execution_count": 79,
   "id": "b3cc8c93",
   "metadata": {},
   "outputs": [
    {
     "name": "stdout",
     "output_type": "stream",
     "text": [
      "\n",
      "                 update gp6.course\n",
      "                 set p_email = 'new_p1'\n",
      "                 where p_email = 'marrinsp@jmu.edu'\n",
      "                 \n"
     ]
    }
   ],
   "source": [
    "sql_statement7 = \"\"\"\n",
    "                 update gp6.course\n",
    "                 set p_email = 'new_p1'\n",
    "                 where p_email = 'marrinsp@jmu.edu'\n",
    "                 \"\"\"\n",
    "\n",
    "print(sql_statement7)"
   ]
  },
  {
   "cell_type": "code",
   "execution_count": 80,
   "id": "d557acc0",
   "metadata": {},
   "outputs": [],
   "source": [
    "cur.execute(sql_statement7)"
   ]
  },
  {
   "cell_type": "code",
   "execution_count": 81,
   "id": "189cc107",
   "metadata": {},
   "outputs": [],
   "source": [
    "conn.commit()"
   ]
  },
  {
   "cell_type": "code",
   "execution_count": 82,
   "id": "5bb235e6",
   "metadata": {},
   "outputs": [
    {
     "data": {
      "text/html": [
       "<div>\n",
       "<style scoped>\n",
       "    .dataframe tbody tr th:only-of-type {\n",
       "        vertical-align: middle;\n",
       "    }\n",
       "\n",
       "    .dataframe tbody tr th {\n",
       "        vertical-align: top;\n",
       "    }\n",
       "\n",
       "    .dataframe thead th {\n",
       "        text-align: right;\n",
       "    }\n",
       "</style>\n",
       "<table border=\"1\" class=\"dataframe\">\n",
       "  <thead>\n",
       "    <tr style=\"text-align: right;\">\n",
       "      <th></th>\n",
       "      <th>c_number</th>\n",
       "      <th>c_name</th>\n",
       "      <th>room</th>\n",
       "      <th>p_email</th>\n",
       "      <th>p_name</th>\n",
       "    </tr>\n",
       "  </thead>\n",
       "  <tbody>\n",
       "    <tr>\n",
       "      <th>0</th>\n",
       "      <td>IA 150</td>\n",
       "      <td>INTRO TO IA</td>\n",
       "      <td>101</td>\n",
       "      <td>hendrinx@jmu.edu</td>\n",
       "      <td>Noel Hendrickson</td>\n",
       "    </tr>\n",
       "    <tr>\n",
       "      <th>1</th>\n",
       "      <td>IA 314</td>\n",
       "      <td>COUNTERFACTUAL REASONING</td>\n",
       "      <td>103</td>\n",
       "      <td>danzelox@jmu.edu</td>\n",
       "      <td>Orlandrew Danzell</td>\n",
       "    </tr>\n",
       "    <tr>\n",
       "      <th>2</th>\n",
       "      <td>IA 340</td>\n",
       "      <td>DATA MINING</td>\n",
       "      <td>105</td>\n",
       "      <td>weixx@jmu.edu</td>\n",
       "      <td>Xeubin Wei</td>\n",
       "    </tr>\n",
       "    <tr>\n",
       "      <th>3</th>\n",
       "      <td>IA 405</td>\n",
       "      <td>ETHICS AND VIRTUE</td>\n",
       "      <td>100</td>\n",
       "      <td>robinsja@jmu.edu</td>\n",
       "      <td>John Robinson</td>\n",
       "    </tr>\n",
       "    <tr>\n",
       "      <th>4</th>\n",
       "      <td>ia_new</td>\n",
       "      <td>new_c_name</td>\n",
       "      <td>online</td>\n",
       "      <td>new_p1</td>\n",
       "      <td>None</td>\n",
       "    </tr>\n",
       "    <tr>\n",
       "      <th>5</th>\n",
       "      <td>IA 420</td>\n",
       "      <td>Strategic Analysis</td>\n",
       "      <td>110</td>\n",
       "      <td>new_p1</td>\n",
       "      <td>Stephen Marrin</td>\n",
       "    </tr>\n",
       "    <tr>\n",
       "      <th>6</th>\n",
       "      <td>IA 300</td>\n",
       "      <td>IA SEMINAR</td>\n",
       "      <td>102</td>\n",
       "      <td>new_p1</td>\n",
       "      <td>Kathleen Moore</td>\n",
       "    </tr>\n",
       "    <tr>\n",
       "      <th>7</th>\n",
       "      <td>IA 440</td>\n",
       "      <td>CAPSTONE PREP</td>\n",
       "      <td>104</td>\n",
       "      <td>new_p1</td>\n",
       "      <td>Kathleen Moore</td>\n",
       "    </tr>\n",
       "  </tbody>\n",
       "</table>\n",
       "</div>"
      ],
      "text/plain": [
       "  c_number                    c_name    room           p_email  \\\n",
       "0   IA 150               INTRO TO IA     101  hendrinx@jmu.edu   \n",
       "1   IA 314  COUNTERFACTUAL REASONING     103  danzelox@jmu.edu   \n",
       "2   IA 340               DATA MINING     105     weixx@jmu.edu   \n",
       "3   IA 405         ETHICS AND VIRTUE     100  robinsja@jmu.edu   \n",
       "4   ia_new                new_c_name  online            new_p1   \n",
       "5   IA 420        Strategic Analysis     110            new_p1   \n",
       "6   IA 300                IA SEMINAR     102            new_p1   \n",
       "7   IA 440             CAPSTONE PREP     104            new_p1   \n",
       "\n",
       "              p_name  \n",
       "0   Noel Hendrickson  \n",
       "1  Orlandrew Danzell  \n",
       "2         Xeubin Wei  \n",
       "3      John Robinson  \n",
       "4               None  \n",
       "5     Stephen Marrin  \n",
       "6     Kathleen Moore  \n",
       "7     Kathleen Moore  "
      ]
     },
     "execution_count": 82,
     "metadata": {},
     "output_type": "execute_result"
    }
   ],
   "source": [
    "df = pandas.read_sql_query(\"select * from  gp6.course\", conn)\n",
    "df[:]"
   ]
  },
  {
   "cell_type": "code",
   "execution_count": 83,
   "id": "6f749d17",
   "metadata": {},
   "outputs": [
    {
     "name": "stdout",
     "output_type": "stream",
     "text": [
      "\n",
      "                 delete from gp6.professor\n",
      "                 where p_email = 'marrinsp@jmu.edu'\n",
      "                 \n"
     ]
    }
   ],
   "source": [
    "sql_statement8 = \"\"\"\n",
    "                 delete from gp6.professor\n",
    "                 where p_email = 'marrinsp@jmu.edu'\n",
    "                 \"\"\"\n",
    "\n",
    "print(sql_statement8)"
   ]
  },
  {
   "cell_type": "code",
   "execution_count": 84,
   "id": "a0ca7b51",
   "metadata": {},
   "outputs": [],
   "source": [
    "cur.execute(sql_statement8)"
   ]
  },
  {
   "cell_type": "code",
   "execution_count": 85,
   "id": "27457d4a",
   "metadata": {},
   "outputs": [
    {
     "data": {
      "text/html": [
       "<div>\n",
       "<style scoped>\n",
       "    .dataframe tbody tr th:only-of-type {\n",
       "        vertical-align: middle;\n",
       "    }\n",
       "\n",
       "    .dataframe tbody tr th {\n",
       "        vertical-align: top;\n",
       "    }\n",
       "\n",
       "    .dataframe thead th {\n",
       "        text-align: right;\n",
       "    }\n",
       "</style>\n",
       "<table border=\"1\" class=\"dataframe\">\n",
       "  <thead>\n",
       "    <tr style=\"text-align: right;\">\n",
       "      <th></th>\n",
       "      <th>c_number</th>\n",
       "      <th>c_name</th>\n",
       "      <th>room</th>\n",
       "      <th>p_email</th>\n",
       "      <th>p_name</th>\n",
       "    </tr>\n",
       "  </thead>\n",
       "  <tbody>\n",
       "    <tr>\n",
       "      <th>0</th>\n",
       "      <td>IA 150</td>\n",
       "      <td>INTRO TO IA</td>\n",
       "      <td>101</td>\n",
       "      <td>hendrinx@jmu.edu</td>\n",
       "      <td>Noel Hendrickson</td>\n",
       "    </tr>\n",
       "    <tr>\n",
       "      <th>1</th>\n",
       "      <td>IA 314</td>\n",
       "      <td>COUNTERFACTUAL REASONING</td>\n",
       "      <td>103</td>\n",
       "      <td>danzelox@jmu.edu</td>\n",
       "      <td>Orlandrew Danzell</td>\n",
       "    </tr>\n",
       "    <tr>\n",
       "      <th>2</th>\n",
       "      <td>IA 340</td>\n",
       "      <td>DATA MINING</td>\n",
       "      <td>105</td>\n",
       "      <td>weixx@jmu.edu</td>\n",
       "      <td>Xeubin Wei</td>\n",
       "    </tr>\n",
       "    <tr>\n",
       "      <th>3</th>\n",
       "      <td>IA 405</td>\n",
       "      <td>ETHICS AND VIRTUE</td>\n",
       "      <td>100</td>\n",
       "      <td>robinsja@jmu.edu</td>\n",
       "      <td>John Robinson</td>\n",
       "    </tr>\n",
       "    <tr>\n",
       "      <th>4</th>\n",
       "      <td>ia_new</td>\n",
       "      <td>new_c_name</td>\n",
       "      <td>online</td>\n",
       "      <td>new_p1</td>\n",
       "      <td>None</td>\n",
       "    </tr>\n",
       "    <tr>\n",
       "      <th>5</th>\n",
       "      <td>IA 420</td>\n",
       "      <td>Strategic Analysis</td>\n",
       "      <td>110</td>\n",
       "      <td>new_p1</td>\n",
       "      <td>Stephen Marrin</td>\n",
       "    </tr>\n",
       "    <tr>\n",
       "      <th>6</th>\n",
       "      <td>IA 300</td>\n",
       "      <td>IA SEMINAR</td>\n",
       "      <td>102</td>\n",
       "      <td>new_p1</td>\n",
       "      <td>Kathleen Moore</td>\n",
       "    </tr>\n",
       "    <tr>\n",
       "      <th>7</th>\n",
       "      <td>IA 440</td>\n",
       "      <td>CAPSTONE PREP</td>\n",
       "      <td>104</td>\n",
       "      <td>new_p1</td>\n",
       "      <td>Kathleen Moore</td>\n",
       "    </tr>\n",
       "  </tbody>\n",
       "</table>\n",
       "</div>"
      ],
      "text/plain": [
       "  c_number                    c_name    room           p_email  \\\n",
       "0   IA 150               INTRO TO IA     101  hendrinx@jmu.edu   \n",
       "1   IA 314  COUNTERFACTUAL REASONING     103  danzelox@jmu.edu   \n",
       "2   IA 340               DATA MINING     105     weixx@jmu.edu   \n",
       "3   IA 405         ETHICS AND VIRTUE     100  robinsja@jmu.edu   \n",
       "4   ia_new                new_c_name  online            new_p1   \n",
       "5   IA 420        Strategic Analysis     110            new_p1   \n",
       "6   IA 300                IA SEMINAR     102            new_p1   \n",
       "7   IA 440             CAPSTONE PREP     104            new_p1   \n",
       "\n",
       "              p_name  \n",
       "0   Noel Hendrickson  \n",
       "1  Orlandrew Danzell  \n",
       "2         Xeubin Wei  \n",
       "3      John Robinson  \n",
       "4               None  \n",
       "5     Stephen Marrin  \n",
       "6     Kathleen Moore  \n",
       "7     Kathleen Moore  "
      ]
     },
     "execution_count": 85,
     "metadata": {},
     "output_type": "execute_result"
    }
   ],
   "source": [
    "df = pandas.read_sql_query(\"select * from  gp6.course\", conn)\n",
    "df[:]"
   ]
  },
  {
   "cell_type": "code",
   "execution_count": 86,
   "id": "88cb8637",
   "metadata": {},
   "outputs": [
    {
     "data": {
      "text/html": [
       "<div>\n",
       "<style scoped>\n",
       "    .dataframe tbody tr th:only-of-type {\n",
       "        vertical-align: middle;\n",
       "    }\n",
       "\n",
       "    .dataframe tbody tr th {\n",
       "        vertical-align: top;\n",
       "    }\n",
       "\n",
       "    .dataframe thead th {\n",
       "        text-align: right;\n",
       "    }\n",
       "</style>\n",
       "<table border=\"1\" class=\"dataframe\">\n",
       "  <thead>\n",
       "    <tr style=\"text-align: right;\">\n",
       "      <th></th>\n",
       "      <th>p_email</th>\n",
       "      <th>p_name</th>\n",
       "      <th>office</th>\n",
       "      <th>c_number</th>\n",
       "    </tr>\n",
       "  </thead>\n",
       "  <tbody>\n",
       "    <tr>\n",
       "      <th>0</th>\n",
       "      <td>new_p_e</td>\n",
       "      <td>new_p_n</td>\n",
       "      <td>new_p_o</td>\n",
       "      <td>None</td>\n",
       "    </tr>\n",
       "    <tr>\n",
       "      <th>1</th>\n",
       "      <td>danzelox@jmu.edu</td>\n",
       "      <td>Orlandrew Danzell</td>\n",
       "      <td>005</td>\n",
       "      <td>IA 314</td>\n",
       "    </tr>\n",
       "    <tr>\n",
       "      <th>2</th>\n",
       "      <td>hendrinx@jmu.edu</td>\n",
       "      <td>Noel Hendrickson</td>\n",
       "      <td>004</td>\n",
       "      <td>IA 150</td>\n",
       "    </tr>\n",
       "    <tr>\n",
       "      <th>3</th>\n",
       "      <td>robinsja@jmu.edu</td>\n",
       "      <td>John Robinson</td>\n",
       "      <td>006</td>\n",
       "      <td>IA 405</td>\n",
       "    </tr>\n",
       "    <tr>\n",
       "      <th>4</th>\n",
       "      <td>waltontr@jmu.edu</td>\n",
       "      <td>Timothy Walton</td>\n",
       "      <td>001</td>\n",
       "      <td>IA 440</td>\n",
       "    </tr>\n",
       "    <tr>\n",
       "      <th>5</th>\n",
       "      <td>weixx@jmu.edu</td>\n",
       "      <td>Xuebin Wei</td>\n",
       "      <td>003</td>\n",
       "      <td>IA 340</td>\n",
       "    </tr>\n",
       "    <tr>\n",
       "      <th>6</th>\n",
       "      <td>new_p1</td>\n",
       "      <td>new_p1</td>\n",
       "      <td>new_o</td>\n",
       "      <td>None</td>\n",
       "    </tr>\n",
       "  </tbody>\n",
       "</table>\n",
       "</div>"
      ],
      "text/plain": [
       "            p_email             p_name      office c_number\n",
       "0           new_p_e            new_p_n  new_p_o        None\n",
       "1  danzelox@jmu.edu  Orlandrew Danzell  005          IA 314\n",
       "2  hendrinx@jmu.edu   Noel Hendrickson  004          IA 150\n",
       "3  robinsja@jmu.edu      John Robinson  006          IA 405\n",
       "4  waltontr@jmu.edu     Timothy Walton  001          IA 440\n",
       "5     weixx@jmu.edu         Xuebin Wei  003          IA 340\n",
       "6            new_p1             new_p1  new_o          None"
      ]
     },
     "execution_count": 86,
     "metadata": {},
     "output_type": "execute_result"
    }
   ],
   "source": [
    "df = pandas.read_sql_query(\"select * from  gp6.professor\", conn)\n",
    "df[:]"
   ]
  },
  {
   "cell_type": "code",
   "execution_count": null,
   "id": "ca5c0cd1",
   "metadata": {},
   "outputs": [],
   "source": []
  }
 ],
 "metadata": {
  "kernelspec": {
   "display_name": "conda_python3",
   "language": "python",
   "name": "conda_python3"
  },
  "language_info": {
   "codemirror_mode": {
    "name": "ipython",
    "version": 3
   },
   "file_extension": ".py",
   "mimetype": "text/x-python",
   "name": "python",
   "nbconvert_exporter": "python",
   "pygments_lexer": "ipython3",
   "version": "3.6.13"
  }
 },
 "nbformat": 4,
 "nbformat_minor": 5
}
